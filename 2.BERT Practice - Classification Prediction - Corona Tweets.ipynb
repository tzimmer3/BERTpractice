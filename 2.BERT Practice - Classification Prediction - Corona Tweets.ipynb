{
 "cells": [
  {
   "cell_type": "markdown",
   "metadata": {},
   "source": [
    "### NLP Classification of Corona Virus Tweets (Kaggle)"
   ]
  },
  {
   "cell_type": "markdown",
   "metadata": {},
   "source": [
    "The purpose of this notebook is to take a previously Fine-Tuned BERT model for classification tasks, and make predictions on a dataset."
   ]
  },
  {
   "cell_type": "markdown",
   "metadata": {},
   "source": [
    "#### Import Packages"
   ]
  },
  {
   "cell_type": "code",
   "execution_count": 1,
   "metadata": {
    "ExecuteTime": {
     "end_time": "2022-01-05T19:51:44.080352Z",
     "start_time": "2022-01-05T19:51:36.389502Z"
    },
    "code_folding": []
   },
   "outputs": [],
   "source": [
    "# Import Packages\n",
    "import os\n",
    "import numpy as np\n",
    "import pandas as pd\n",
    "import torch\n",
    "\n",
    "from datasets import load_dataset\n",
    "from datasets import load_metric\n",
    "\n",
    "from transformers import AutoTokenizer\n",
    "from transformers import AutoModelForSequenceClassification\n",
    "from transformers import TrainingArguments\n",
    "from transformers import Trainer"
   ]
  },
  {
   "cell_type": "markdown",
   "metadata": {},
   "source": [
    "#### Load the data"
   ]
  },
  {
   "cell_type": "code",
   "execution_count": 3,
   "metadata": {
    "ExecuteTime": {
     "end_time": "2022-01-05T19:51:44.159786Z",
     "start_time": "2022-01-05T19:51:44.115905Z"
    }
   },
   "outputs": [],
   "source": [
    "# Load the dataset you want to make predictions on\n",
    "dataset = pd.read_csv(\"C:\\\\Users\\\\hlmq\\\\OneDrive - Chevron\\\\Data\\\\DSDP\\\\CoronaTweets-Kaggle\\\\Corona_NLP_test.csv\"\n",
    "                   , encoding = \"ISO-8859-1\")"
   ]
  },
  {
   "cell_type": "markdown",
   "metadata": {},
   "source": [
    "#### Prepare the Tokenizer and Perform Data Cleanup"
   ]
  },
  {
   "cell_type": "code",
   "execution_count": 6,
   "metadata": {
    "ExecuteTime": {
     "end_time": "2022-01-05T19:51:52.155142Z",
     "start_time": "2022-01-05T19:51:52.145176Z"
    },
    "code_folding": [
     0
    ]
   },
   "outputs": [],
   "source": [
    "# Utility functions\n",
    "\n",
    "def transform_labels(label):\n",
    "    num = 5\n",
    "    \n",
    "    if label == 'Extremely Positive':\n",
    "        num = 0\n",
    "    elif label == 'Positive':\n",
    "        num = 1\n",
    "    elif label == 'Neutral':\n",
    "        num = 2\n",
    "    elif label == 'Negative':\n",
    "        num = 3\n",
    "    elif label == 'Extremely Negative':\n",
    "        num = 4\n",
    "    \n",
    "    return num\n",
    "\n",
    "\n",
    "# Define utility functions\n",
    "\n",
    "def transform_labels(label):\n",
    "\n",
    "    label = label['Sentiment']\n",
    "    num = 0\n",
    "    if label == 'Extremely Positive':\n",
    "        num = 0\n",
    "    elif label == 'Positive':\n",
    "        num = 1\n",
    "    elif label == 'Neutral':\n",
    "        num = 2\n",
    "    elif label == 'Negative':\n",
    "        num = 3\n",
    "    elif label == 'Extremely Negative':\n",
    "        num = 4\n",
    "\n",
    "    return {'labels': num}\n"
   ]
  },
  {
   "cell_type": "code",
   "execution_count": 5,
   "metadata": {
    "ExecuteTime": {
     "end_time": "2022-01-05T19:51:52.139184Z",
     "start_time": "2022-01-05T19:51:44.178736Z"
    }
   },
   "outputs": [
    {
     "data": {
      "text/plain": [
       "{'input_ids': [101, 1335, 5208, 2116, 1110, 1155, 1128, 1444, 102], 'token_type_ids': [0, 0, 0, 0, 0, 0, 0, 0, 0], 'attention_mask': [1, 1, 1, 1, 1, 1, 1, 1, 1]}"
      ]
     },
     "execution_count": 5,
     "metadata": {},
     "output_type": "execute_result"
    }
   ],
   "source": [
    "# Load tokenizer from transformers library\n",
    "tokenizer = AutoTokenizer.from_pretrained('bert-base-cased')\n",
    "\n",
    "# Check to be sure the tokenizer is working\n",
    "tokenizer(\"Attention is all you need\")"
   ]
  },
  {
   "cell_type": "code",
   "execution_count": 7,
   "metadata": {
    "ExecuteTime": {
     "end_time": "2022-01-05T19:51:52.187056Z",
     "start_time": "2022-01-05T19:51:52.159128Z"
    }
   },
   "outputs": [],
   "source": [
    "## Dataset cleanup\n",
    "\n",
    "# Create new index\n",
    "dataset_idx = [i for i in range(len(dataset.index))]\n",
    "\n",
    "# Convert to numpy\n",
    "X_text = dataset['OriginalTweet'].values[dataset_idx]\n",
    "\n",
    "X_text = X_text[1:100,]\n",
    "\n",
    "# Tokenize dataset\n",
    "X_test = tokenizer(list(X_text), return_tensors='pt', truncation=True, padding=True, max_length=128)"
   ]
  },
  {
   "cell_type": "markdown",
   "metadata": {},
   "source": [
    "#### Access Pretrained BERT Base"
   ]
  },
  {
   "cell_type": "code",
   "execution_count": 8,
   "metadata": {
    "ExecuteTime": {
     "end_time": "2022-01-05T19:51:54.518287Z",
     "start_time": "2022-01-05T19:51:52.190054Z"
    }
   },
   "outputs": [],
   "source": [
    "# Import the fine-tuned BERT model from the previous notebook\n",
    "\n",
    "# This is the number of classes in the dataset\n",
    "num_classes = 5\n",
    "# This is the fine tuned BERT model\n",
    "bert_model = AutoModelForSequenceClassification.from_pretrained('corona_tweet_sentiment.model', num_labels=num_classes)"
   ]
  },
  {
   "cell_type": "markdown",
   "metadata": {},
   "source": [
    "#### Make Small Sample Predictions"
   ]
  },
  {
   "cell_type": "code",
   "execution_count": 9,
   "metadata": {
    "ExecuteTime": {
     "end_time": "2022-01-05T19:51:54.813232Z",
     "start_time": "2022-01-05T19:51:54.520307Z"
    },
    "code_folding": []
   },
   "outputs": [
    {
     "name": "stdout",
     "output_type": "stream",
     "text": [
      "tensor([[0.1479, 0.1089, 0.7097, 0.0241, 0.0094],\n",
      "        [0.2096, 0.0275, 0.0246, 0.7275, 0.0108],\n",
      "        [0.0534, 0.1875, 0.0267, 0.0201, 0.7124]], grad_fn=<SoftmaxBackward0>)\n"
     ]
    }
   ],
   "source": [
    "# Random data to test the model\n",
    "raw_inputs = [\n",
    "    \"I've been waiting for a HuggingFace course my whole life.\", \n",
    "    \"I am very excited about training the model !!\",\n",
    "    \"I hate this weather which makes me feel irritated  !\"\n",
    "]\n",
    "\n",
    "inputs = tokenizer(raw_inputs, padding=True, truncation=True, return_tensors=\"pt\")\n",
    "\n",
    "# Perform classification task on real data\n",
    "predictions = bert_model(**inputs)\n",
    "\n",
    "# Coerce prediction values\n",
    "predictions = torch.nn.functional.softmax(predictions.logits, dim = -1)\n",
    "\n",
    "print(predictions)"
   ]
  },
  {
   "cell_type": "markdown",
   "metadata": {},
   "source": [
    "#### Make Actual Predictions"
   ]
  },
  {
   "cell_type": "code",
   "execution_count": 10,
   "metadata": {
    "ExecuteTime": {
     "end_time": "2022-01-05T19:51:54.829189Z",
     "start_time": "2022-01-05T19:51:54.817220Z"
    },
    "code_folding": [
     0
    ]
   },
   "outputs": [],
   "source": [
    "# Utility Functions\n",
    "\n",
    "def create_predictions_dataframe(predictions, dataset):\n",
    "    # Created to take tensor output from BERT and convert to dataframe.  \n",
    "    \n",
    "    ## 1. Cast tensor output into Pandas Dataframe.  \n",
    "    y_test = pd.DataFrame(predictions).astype(\"float\")\n",
    "    ## 2. Retrieve the largest value index position. Looks at the entire row.\n",
    "    y_test['Prediction'] = y_test.idxmax(axis=1)\n",
    "    ## 3. Append Target column and change labels from string to integer values\n",
    "    y_test['Target'] = dataset[\"Sentiment\"].apply(transform_labels)\n",
    "    \n",
    "    return y_test"
   ]
  },
  {
   "cell_type": "code",
   "execution_count": 11,
   "metadata": {
    "ExecuteTime": {
     "end_time": "2022-01-05T19:52:20.290323Z",
     "start_time": "2022-01-05T19:51:54.833182Z"
    }
   },
   "outputs": [
    {
     "data": {
      "text/html": [
       "<div>\n",
       "<style scoped>\n",
       "    .dataframe tbody tr th:only-of-type {\n",
       "        vertical-align: middle;\n",
       "    }\n",
       "\n",
       "    .dataframe tbody tr th {\n",
       "        vertical-align: top;\n",
       "    }\n",
       "\n",
       "    .dataframe thead th {\n",
       "        text-align: right;\n",
       "    }\n",
       "</style>\n",
       "<table border=\"1\" class=\"dataframe\">\n",
       "  <thead>\n",
       "    <tr style=\"text-align: right;\">\n",
       "      <th></th>\n",
       "      <th>0</th>\n",
       "      <th>1</th>\n",
       "      <th>2</th>\n",
       "      <th>3</th>\n",
       "      <th>4</th>\n",
       "      <th>Prediction</th>\n",
       "      <th>Target</th>\n",
       "    </tr>\n",
       "  </thead>\n",
       "  <tbody>\n",
       "    <tr>\n",
       "      <th>0</th>\n",
       "      <td>0.227855</td>\n",
       "      <td>0.155133</td>\n",
       "      <td>0.574674</td>\n",
       "      <td>0.033772</td>\n",
       "      <td>0.008565</td>\n",
       "      <td>2</td>\n",
       "      <td>4</td>\n",
       "    </tr>\n",
       "    <tr>\n",
       "      <th>1</th>\n",
       "      <td>0.436126</td>\n",
       "      <td>0.035193</td>\n",
       "      <td>0.037387</td>\n",
       "      <td>0.483800</td>\n",
       "      <td>0.007494</td>\n",
       "      <td>3</td>\n",
       "      <td>0</td>\n",
       "    </tr>\n",
       "    <tr>\n",
       "      <th>2</th>\n",
       "      <td>0.116966</td>\n",
       "      <td>0.563973</td>\n",
       "      <td>0.040100</td>\n",
       "      <td>0.015377</td>\n",
       "      <td>0.263583</td>\n",
       "      <td>1</td>\n",
       "      <td>3</td>\n",
       "    </tr>\n",
       "    <tr>\n",
       "      <th>3</th>\n",
       "      <td>0.115201</td>\n",
       "      <td>0.088561</td>\n",
       "      <td>0.769928</td>\n",
       "      <td>0.020015</td>\n",
       "      <td>0.006295</td>\n",
       "      <td>2</td>\n",
       "      <td>1</td>\n",
       "    </tr>\n",
       "    <tr>\n",
       "      <th>4</th>\n",
       "      <td>0.128914</td>\n",
       "      <td>0.133278</td>\n",
       "      <td>0.708155</td>\n",
       "      <td>0.020512</td>\n",
       "      <td>0.009141</td>\n",
       "      <td>2</td>\n",
       "      <td>2</td>\n",
       "    </tr>\n",
       "  </tbody>\n",
       "</table>\n",
       "</div>"
      ],
      "text/plain": [
       "          0         1         2         3         4  Prediction  Target\n",
       "0  0.227855  0.155133  0.574674  0.033772  0.008565           2       4\n",
       "1  0.436126  0.035193  0.037387  0.483800  0.007494           3       0\n",
       "2  0.116966  0.563973  0.040100  0.015377  0.263583           1       3\n",
       "3  0.115201  0.088561  0.769928  0.020015  0.006295           2       1\n",
       "4  0.128914  0.133278  0.708155  0.020512  0.009141           2       2"
      ]
     },
     "execution_count": 11,
     "metadata": {},
     "output_type": "execute_result"
    }
   ],
   "source": [
    "# Perform classification task on actual data\n",
    "predictions = bert_model(**X_test)\n",
    "\n",
    "# Coerce prediction values to between 0 and 1\n",
    "predictions = torch.nn.functional.softmax(predictions.logits, dim = -1)\n",
    "\n",
    "# Create y_test dataframe with predictions and target\n",
    "y_test = create_predictions_dataframe(predictions, dataset)\n",
    "\n",
    "# Check the resulting DF\n",
    "y_test.head()"
   ]
  },
  {
   "cell_type": "markdown",
   "metadata": {},
   "source": [
    "#### Goodness of fit visuals/metrics"
   ]
  },
  {
   "cell_type": "code",
   "execution_count": 12,
   "metadata": {
    "ExecuteTime": {
     "end_time": "2022-01-05T19:52:20.338195Z",
     "start_time": "2022-01-05T19:52:20.294313Z"
    },
    "code_folding": [
     0
    ]
   },
   "outputs": [
    {
     "data": {
      "text/html": [
       "<div>\n",
       "<style scoped>\n",
       "    .dataframe tbody tr th:only-of-type {\n",
       "        vertical-align: middle;\n",
       "    }\n",
       "\n",
       "    .dataframe tbody tr th {\n",
       "        vertical-align: top;\n",
       "    }\n",
       "\n",
       "    .dataframe thead th {\n",
       "        text-align: right;\n",
       "    }\n",
       "</style>\n",
       "<table border=\"1\" class=\"dataframe\">\n",
       "  <thead>\n",
       "    <tr style=\"text-align: right;\">\n",
       "      <th></th>\n",
       "      <th>Measure</th>\n",
       "      <th>Value</th>\n",
       "    </tr>\n",
       "  </thead>\n",
       "  <tbody>\n",
       "    <tr>\n",
       "      <th>0</th>\n",
       "      <td>Accuracy</td>\n",
       "      <td>0.252525</td>\n",
       "    </tr>\n",
       "    <tr>\n",
       "      <th>1</th>\n",
       "      <td>F1_Score</td>\n",
       "      <td>0.247321</td>\n",
       "    </tr>\n",
       "    <tr>\n",
       "      <th>2</th>\n",
       "      <td>Precision</td>\n",
       "      <td>0.252945</td>\n",
       "    </tr>\n",
       "    <tr>\n",
       "      <th>3</th>\n",
       "      <td>Recall</td>\n",
       "      <td>0.252525</td>\n",
       "    </tr>\n",
       "    <tr>\n",
       "      <th>4</th>\n",
       "      <td>MCC</td>\n",
       "      <td>0.050853</td>\n",
       "    </tr>\n",
       "  </tbody>\n",
       "</table>\n",
       "</div>"
      ],
      "text/plain": [
       "     Measure     Value\n",
       "0   Accuracy  0.252525\n",
       "1   F1_Score  0.247321\n",
       "2  Precision  0.252945\n",
       "3     Recall  0.252525\n",
       "4        MCC  0.050853"
      ]
     },
     "execution_count": 12,
     "metadata": {},
     "output_type": "execute_result"
    }
   ],
   "source": [
    "# Plot global model accuracy metrics\n",
    "from custom_packages import Categorical_Accuracy_Table as t\n",
    "\n",
    "t.accuracy_table(y_test['Target'],y_test['Prediction'])"
   ]
  },
  {
   "cell_type": "code",
   "execution_count": 13,
   "metadata": {
    "ExecuteTime": {
     "end_time": "2022-01-05T19:52:21.638832Z",
     "start_time": "2022-01-05T19:52:20.342185Z"
    },
    "code_folding": [
     0
    ]
   },
   "outputs": [
    {
     "data": {
      "image/png": "[encoded data removed]",
      "text/plain": [
       "<Figure size 432x288 with 2 Axes>"
      ]
     },
     "metadata": {
      "needs_background": "light"
     },
     "output_type": "display_data"
    }
   ],
   "source": [
    "# Plot confusion matrix\n",
    "from custom_packages import Diagnostic_Plots\n",
    "\n",
    "confusion_matrix(y_test['Target'],y_test['Prediction'])"
   ]
  },
  {
   "cell_type": "markdown",
   "metadata": {},
   "source": [
    "#### Appendix"
   ]
  },
  {
   "cell_type": "markdown",
   "metadata": {},
   "source": [
    "##### Things to improve upon\n",
    "\n",
    "1. Make the confusion matrix show Jabrils stuff\n",
    "2. Are these the correct metrics for multi-category?\n",
    "3. Should this stuff be in a pipeline?\n",
    "4. Make it possible to iterate through the entire y_test dataset OR perform batch inferencing with the model\n",
    "5. Make the code easier to read\n",
    "6. Make num_classes flexible instead of hard-coded\n",
    "7. Make a toggle for binary prediction\n",
    "\n",
    "\n",
    "##### Longer Term\n",
    "\n",
    "1. requirements.txt\n",
    "2. Github repo\n",
    "3. Move to AML"
   ]
  },
  {
   "cell_type": "code",
   "execution_count": null,
   "metadata": {},
   "outputs": [],
   "source": []
  }
 ],
 "metadata": {
  "kernelspec": {
   "display_name": "Python 3",
   "language": "python",
   "name": "python3"
  },
  "language_info": {
   "codemirror_mode": {
    "name": "ipython",
    "version": 3
   },
   "file_extension": ".py",
   "mimetype": "text/x-python",
   "name": "python",
   "nbconvert_exporter": "python",
   "pygments_lexer": "ipython3",
   "version": "3.7.1"
  },
  "toc": {
   "base_numbering": 1,
   "nav_menu": {},
   "number_sections": true,
   "sideBar": true,
   "skip_h1_title": false,
   "title_cell": "Table of Contents",
   "title_sidebar": "Contents",
   "toc_cell": false,
   "toc_position": {
    "height": "calc(100% - 180px)",
    "left": "10px",
    "top": "150px",
    "width": "165px"
   },
   "toc_section_display": true,
   "toc_window_display": true
  }
 },
 "nbformat": 4,
 "nbformat_minor": 4
}
